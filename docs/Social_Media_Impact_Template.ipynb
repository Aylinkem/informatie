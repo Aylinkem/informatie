{
 "cells": [
  {
   "cell_type": "markdown",
   "id": "a8134bc8",
   "metadata": {},
   "source": [
    "\n",
    "# Effect van social media: Wat is de impact van eindeloos scrollen op je mentale gezondheid en productiviteit?\n",
    "\n",
    "**Groep H3**  \n",
    "Jesper Schouten (13449400), Guido Rienks (15804437), Julius Rademakers (14698951), Aylin Kemper (14263246)\n"
   ]
  },
  {
   "cell_type": "markdown",
   "id": "e0be9d85",
   "metadata": {},
   "source": [
    "\n",
    "## Inleiding\n",
    "\n",
    "Sociale media spelen een steeds grotere rol in het dagelijks leven van mensen over de hele wereld. Platforms zoals Instagram, TikTok en YouTube worden gebruikt voor entertainment, contact met anderen, nieuws en zelfs voor werk. Hoewel sociale media veel voordelen bieden, wijzen meerdere onderzoeken op negatieve effecten op cognitieve prestaties en welzijn (Twenge et al., 2018; Montag & Walla, 2016).\n",
    "\n",
    "In deze data story onderzoeken we dit onderwerp vanuit twee verschillende perspectieven: **productiviteit** en **mentale gezondheid**.\n"
   ]
  },
  {
   "cell_type": "markdown",
   "id": "b227cc7b",
   "metadata": {},
   "source": [
    "\n",
    "## Gebruikte datasets\n",
    "\n",
    "1. [Social Media vs Productivity](https://www.kaggle.com/datasets/mahdimashayekhi/social-media-vs-productivity)  \n",
    "2. [Mental Health and Digital Behavior (2020–2024)](https://www.kaggle.com/datasets/atharvasoundankar/mental-health-and-digital-behavior-20202024)\n"
   ]
  },
  {
   "cell_type": "markdown",
   "id": "99fff8b1",
   "metadata": {},
   "source": [
    "\n",
    "## Belangrijke variabelen\n",
    "\n",
    "### Social Media vs Productivity\n",
    "\n",
    "| Variabele | Uitleg | Reden van keuze |\n",
    "|------------|-------------------|---------------------------------------|\n",
    "| actual_productivity_score | Meet de daadwerkelijke productiviteit van een persoon, gebaseerd op hun output. | Geeft objectieve maat van prestatie gekoppeld aan social media gebruik. |\n",
    "| daily_social_media_hours | Het aantal uren dat een persoon per dag op sociale media zit. | Helpt om correlatie te leggen met productiviteit. |\n",
    "| number_of_notifications | Het aantal meldingen dat een persoon op een dag ontvangt op hun apparaat. | Kan afleidingen meten die mogelijk invloed hebben op concentratie en productiviteit. |\n",
    "| weekly_offline_hours | Het aantal uren per week dat iemand geen gebruik maakt van digitale apparaten. | Geeft inzicht in de digitale balans en mogelijke hersteltijd voor focus. |\n",
    "| screen_time_before_sleep | De tijd die iemand besteedt aan een scherm vlak voordat diegene gaat slapen. | Heeft invloed op slaapkwaliteit en daarmee indirect op dagelijkse productiviteit. |\n",
    "| sleep_hours | Het gemiddeld aantal uren slaap per nacht. | Slaap is essentieel voor cognitief functioneren en productiviteit. |\n"
   ]
  },
  {
   "cell_type": "markdown",
   "id": "c4f2ea81",
   "metadata": {},
   "source": [
    "\n",
    "### Mental Health and Digital Behavior\n",
    "\n",
    "| Variabele | Uitleg | Relevantie |\n",
    "|------------|-------------------|---------------------------------------|\n",
    "| social_media_time_min | Tijd besteed op social media platforms | Als norm voor vergelijking |\n",
    "| mood_score | Zelf aangegeven stemming (1-10) | Correlatie tussen stemming en social media gebruik |\n",
    "| anxiety_level | Zelf aangegeven angstniveau (1-10) | Correlatie tussen angst en social media gebruik |\n",
    "| digital_well_being_score | Gebaseerd op focus, slaap en angst | Meet algemene digitale gezondheid |\n"
   ]
  },
  {
   "cell_type": "markdown",
   "id": "ff134c3d",
   "metadata": {},
   "source": [
    "\n",
    "## Preprocessing\n",
    "\n",
    "**Stappen:**  \n",
    "- Verwijderen van rijen met lege waarden\n",
    "- Conversie tijdseenheden naar hetzelfde formaat\n",
    "- Normalisatie (0-1 schaal)\n",
    "- Herclassificatie: gemiddelden berekend voor overzichtelijkheid\n",
    "- Filtering per leeftijdsgroep: jongeren (13–24) versus volwassenen (25+)\n"
   ]
  },
  {
   "cell_type": "markdown",
   "id": "5f74585e",
   "metadata": {},
   "source": [
    "\n",
    "## Visualisaties en Argumenten\n",
    "\n",
    "### Perspectief 1: Socialmediagebruik verlaagt productiviteit\n",
    "\n",
    "**Argument 1:** Meer tijd op social media per dag leidt gemiddeld tot een lagere productiviteitsscore, maar sommige gebruikers blijven toch productief.  \n",
    "\n",
    "**Argument 2:** Hoog aantal meldingen per week hangt samen met minder offline tijd.  \n",
    "\n",
    "**Argument 3:** Mensen die vlak voor het slapengaan schermen gebruiken, slapen gemiddeld minder uren per nacht.  \n"
   ]
  },
  {
   "cell_type": "code",
   "execution_count": null,
   "id": "8787d3a7",
   "metadata": {},
   "outputs": [],
   "source": [
    "\n",
    "# TODO: Laad dataset en genereer scatter plot voor Argument 1\n",
    "# Plaats hier je visualisatiecode\n"
   ]
  },
  {
   "cell_type": "code",
   "execution_count": null,
   "id": "55735be2",
   "metadata": {},
   "outputs": [],
   "source": [
    "\n",
    "# TODO: Staafgrafiek genereren voor Argument 2\n",
    "# Plaats hier je visualisatiecode\n"
   ]
  },
  {
   "cell_type": "code",
   "execution_count": null,
   "id": "b7ef3a82",
   "metadata": {},
   "outputs": [],
   "source": [
    "\n",
    "# TODO: Hexbin-plot voor Argument 3\n",
    "# Plaats hier je visualisatiecode\n"
   ]
  },
  {
   "cell_type": "markdown",
   "id": "2cdd13a7",
   "metadata": {},
   "source": [
    "\n",
    "### Perspectief 2: Socialmediagebruik ondermijnt mentale gezondheid\n",
    "\n",
    "**Argument 1:** Social media gebruik verlaagt moodscore.  \n",
    "**Argument 2:** Social media gebruik verhoogt anxiety level.  \n",
    "**Argument 3:** Hoger social media gebruik correleert met lagere digital well being score.  \n"
   ]
  },
  {
   "cell_type": "code",
   "execution_count": null,
   "id": "1b936e69",
   "metadata": {},
   "outputs": [],
   "source": [
    "\n",
    "# TODO: Visualisatie moodscore vs social media gebruik\n",
    "# Plaats hier je visualisatiecode\n"
   ]
  },
  {
   "cell_type": "code",
   "execution_count": null,
   "id": "1d513866",
   "metadata": {},
   "outputs": [],
   "source": [
    "\n",
    "# TODO: Visualisatie anxiety level vs social media gebruik\n",
    "# Plaats hier je visualisatiecode\n"
   ]
  },
  {
   "cell_type": "code",
   "execution_count": null,
   "id": "534dc2c6",
   "metadata": {},
   "outputs": [],
   "source": [
    "\n",
    "# TODO: Visualisatie digital well being score vs social media gebruik\n",
    "# Plaats hier je visualisatiecode\n"
   ]
  },
  {
   "cell_type": "markdown",
   "id": "2939bc9f",
   "metadata": {},
   "source": [
    "\n",
    "## Samenvatting\n",
    "\n",
    "In deze data story onderzochten we hoe social media invloed kan hebben op productiviteit en mentale gezondheid.  \n",
    "We gebruikten daarvoor de genoemde datasets van Kaggle, voerden preprocessing uit en visualiseerden trends.  \n",
    "De resultaten bevestigen bestaande literatuur die wijst op risico's van intensief social media gebruik, met name bij jongeren.\n",
    "\n",
    "### Referenties:\n",
    "- Twenge, J.M., et al. (2018). *Clinical Psychological Science.*  \n",
    "- Montag, C. & Walla, P. (2016). *Frontiers in Psychology.*  \n",
    "- Odgers, C.L. & Jensen, M.R. (2020). *Journal of Child Psychology and Psychiatry.*  \n"
   ]
  }
 ],
 "metadata": {},
 "nbformat": 4,
 "nbformat_minor": 5
}
